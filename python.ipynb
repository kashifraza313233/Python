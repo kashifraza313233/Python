{
 "cells": [
  {
   "cell_type": "code",
   "execution_count": null,
   "metadata": {},
   "outputs": [],
   "source": [
    "# Using curly braces\n",
    "student_scores : dict[str, int] = {\n",
    "    \"Alice\": 85,\n",
    "    \"Bob\": 92,\n",
    "    \"Charlie\": 78\n",
    "}\n",
    "# Using dict() function\n",
    "student_scores : dict[str,int] = dict(Alice=85, Bob=92, Charlie=78)\n",
    "for student, score in student_scores.items():\n",
    "    print(f\"{student}: {score}\")"
   ]
  },
  {
   "cell_type": "code",
   "execution_count": null,
   "metadata": {},
   "outputs": [],
   "source": [
    "# Simplify Code with List Comprehensions\n",
    "\n",
    "squares : list[int] = [x**2 for x in range(1, 6)]\n",
    "print(squares)  "
   ]
  },
  {
   "cell_type": "code",
   "execution_count": null,
   "metadata": {},
   "outputs": [],
   "source": [
    "                                             ###### Reutrn with expression #######\n",
    "# funtion return \n",
    "def addition(first_number:int, second_number:int)->int:\n",
    "    \n",
    "    result : int = first_number + second_number\n",
    "    return result\n",
    "\n",
    "get_sum : int = addition(5,8)\n",
    "print(get_sum) #Output: 13\n",
    "\n",
    "                                                ###### Reutrn with out expression #######\n",
    "# Define a function\n",
    "def addition_non_zero(first_number:int, second_number:int)->int | None:\n",
    "    if first_number > 0 and second_number > 0:\n",
    "        result : int = first_number + second_number\n",
    "        return result\n",
    "\n",
    "\n",
    "get_sum : int | None = addition_non_zero(5,8)\n",
    "print(f\"SUM : {get_sum}\") # Output: 13\n",
    "\n",
    "get_sum : int | None = addition_non_zero(0,8)\n",
    "print(f\"SUM : {get_sum}\") # Output: None"
   ]
  },
  {
   "cell_type": "code",
   "execution_count": null,
   "metadata": {},
   "outputs": [],
   "source": [
    "                                                ##Return Multiple values\n",
    "                                                \n",
    "def mul_and_add(a:int, b:int)-> tuple[int, int]:\n",
    "    multiplication : int = a * b\n",
    "    addition : int = a + b\n",
    "    return multiplication, addition\n",
    "\n",
    "result = mul_and_add(5, 4)\n",
    "print(result)  # Output: (20, 9)\n",
    "\n",
    "# We can unpack it like so\n",
    "mul_result, add_result = mul_and_add(5, 4)\n",
    "print(f\"Multiplication result:{mul_result}\")\n",
    "print(f\"Addition result:{add_result}\")"
   ]
  },
  {
   "cell_type": "code",
   "execution_count": null,
   "metadata": {},
   "outputs": [],
   "source": [
    "my_dict={\n",
    "    \"name\": \"John\",\n",
    "    \"age\": 30,\n",
    "    \"city\": \"New York\"\n",
    "}\n",
    "\n",
    "print(f\"{my_dict}\")\n",
    "\n",
    "## Access a Value \n",
    "my_dict[\"Occupation\"] = \"Software Engineer\"\n",
    "\n",
    "print(f\"{my_dict}\")\n",
    "\n",
    "## Remove value\n",
    "del my_dict[\"age\"]\n",
    "\n",
    "print(f\"{my_dict}\")\n",
    "\n",
    "# Iterating through a dictionary\n",
    "for key, value in my_dict.items():\n",
    "    print(key,value)\n",
    "    \n",
    "print(my_dict.get(\"Occupation\",\"Not Found\"))"
   ]
  },
  {
   "cell_type": "code",
   "execution_count": null,
   "metadata": {},
   "outputs": [],
   "source": [
    "# Function Return with Expression\n",
    "\n",
    "def Addition(firstnum:int, secontnum:int)->int:\n",
    "    result : int = firstnum + secontnum\n",
    "    return result \n",
    "get_Sum : int = Addition(5,8)\n",
    "print(get_Sum)\n",
    "\n",
    "\n",
    "# Function without Expression\n",
    "\n",
    "def Addition(firstnum:int, secontnum:int)->int | None:\n",
    "    if firstnum > 0 and secontnum > 0:\n",
    "        result : int = firstnum + secontnum\n",
    "        return result \n",
    "get_Sum : int | None = Addition(0,8)\n",
    "print(get_Sum)\n"
   ]
  },
  {
   "cell_type": "code",
   "execution_count": 4,
   "metadata": {},
   "outputs": [
    {
     "name": "stdout",
     "output_type": "stream",
     "text": [
      "(20, 9)\n",
      "Multiplication result:20\n",
      "Addition result:9\n"
     ]
    }
   ],
   "source": [
    "#### Return Multiple Values\n",
    "def mul_and_add(a:int, b:int)-> tuple[int, int]:\n",
    "    multiplication : int = a * b\n",
    "    addition : int = a + b\n",
    "    return multiplication, addition\n",
    "\n",
    "result = mul_and_add(5, 4)\n",
    "print(result)  # Output: (20, 9)\n",
    "\n",
    "# We can unpack it like so\n",
    "mul_result, add_result = mul_and_add(5, 4)\n",
    "print(f\"Multiplication result:{mul_result}\")\n",
    "print(f\"Addition result:{add_result}\")"
   ]
  }
 ],
 "metadata": {
  "kernelspec": {
   "display_name": "Python 3",
   "language": "python",
   "name": "python3"
  },
  "language_info": {
   "codemirror_mode": {
    "name": "ipython",
    "version": 3
   },
   "file_extension": ".py",
   "mimetype": "text/x-python",
   "name": "python",
   "nbconvert_exporter": "python",
   "pygments_lexer": "ipython3",
   "version": "3.11.1"
  }
 },
 "nbformat": 4,
 "nbformat_minor": 2
}
